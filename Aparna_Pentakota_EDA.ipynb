{
 "cells": [
  {
   "cell_type": "markdown",
   "id": "8e6a9728-bacc-4273-80ee-200f7688c81a",
   "metadata": {},
   "source": [
    "# Project Name:  E-Commerce Transaction Dataset\r",
    "## Task 1: Exploratory Data Analysis (EDA) and Business Insights\r\n",
    "1. Perform EDA on the provided dataset.\r\n",
    "2. Derive at least 5 business insights from the EDA- \r\n",
    "○ Write these insights in short point-wise sentences (maximum 100 words per insight).\r\n",
    "\n"
   ]
  },
  {
   "cell_type": "code",
   "execution_count": 2,
   "id": "162f92f0-2553-4c54-9caf-41edc16cc9d1",
   "metadata": {},
   "outputs": [],
   "source": [
    "import pandas as pd\n",
    "import matplotlib.pyplot as plt\n",
    "import seaborn as sns\n"
   ]
  },
  {
   "cell_type": "markdown",
   "id": "601ac474-6db9-40b6-a679-ad0ca34c72f5",
   "metadata": {},
   "source": [
    "## Load dataset"
   ]
  },
  {
   "cell_type": "code",
   "execution_count": 3,
   "id": "0a48cfb9-a2e6-40f8-8cfa-482e8c45693f",
   "metadata": {},
   "outputs": [],
   "source": [
    "transactions = pd.read_csv(r\"C:\\Users\\DaLav\\Downloads\\Transactions.csv\")\n",
    "products = pd.read_csv(r\"C:\\Users\\DaLav\\Downloads\\Products.csv\")\n",
    "customers = pd.read_csv(r\"C:\\Users\\DaLav\\Downloads\\Customers.csv\")"
   ]
  },
  {
   "cell_type": "markdown",
   "id": "2d79bb4e-9c5d-4124-8e2e-b66a49765864",
   "metadata": {},
   "source": [
    "## Display basic information and a preview of each dataset"
   ]
  },
  {
   "cell_type": "code",
   "execution_count": 4,
   "id": "78181de8-0bb5-40dd-b23e-047e595b0375",
   "metadata": {},
   "outputs": [
    {
     "name": "stdout",
     "output_type": "stream",
     "text": [
      "<class 'pandas.core.frame.DataFrame'>\n",
      "RangeIndex: 1000 entries, 0 to 999\n",
      "Data columns (total 7 columns):\n",
      " #   Column           Non-Null Count  Dtype  \n",
      "---  ------           --------------  -----  \n",
      " 0   TransactionID    1000 non-null   object \n",
      " 1   CustomerID       1000 non-null   object \n",
      " 2   ProductID        1000 non-null   object \n",
      " 3   TransactionDate  1000 non-null   object \n",
      " 4   Quantity         1000 non-null   int64  \n",
      " 5   TotalValue       1000 non-null   float64\n",
      " 6   Price            1000 non-null   float64\n",
      "dtypes: float64(2), int64(1), object(4)\n",
      "memory usage: 54.8+ KB\n"
     ]
    },
    {
     "data": {
      "text/html": [
       "<div>\n",
       "<style scoped>\n",
       "    .dataframe tbody tr th:only-of-type {\n",
       "        vertical-align: middle;\n",
       "    }\n",
       "\n",
       "    .dataframe tbody tr th {\n",
       "        vertical-align: top;\n",
       "    }\n",
       "\n",
       "    .dataframe thead th {\n",
       "        text-align: right;\n",
       "    }\n",
       "</style>\n",
       "<table border=\"1\" class=\"dataframe\">\n",
       "  <thead>\n",
       "    <tr style=\"text-align: right;\">\n",
       "      <th></th>\n",
       "      <th>TransactionID</th>\n",
       "      <th>CustomerID</th>\n",
       "      <th>ProductID</th>\n",
       "      <th>TransactionDate</th>\n",
       "      <th>Quantity</th>\n",
       "      <th>TotalValue</th>\n",
       "      <th>Price</th>\n",
       "    </tr>\n",
       "  </thead>\n",
       "  <tbody>\n",
       "    <tr>\n",
       "      <th>0</th>\n",
       "      <td>T00001</td>\n",
       "      <td>C0199</td>\n",
       "      <td>P067</td>\n",
       "      <td>2024-08-25 12:38:23</td>\n",
       "      <td>1</td>\n",
       "      <td>300.68</td>\n",
       "      <td>300.68</td>\n",
       "    </tr>\n",
       "    <tr>\n",
       "      <th>1</th>\n",
       "      <td>T00112</td>\n",
       "      <td>C0146</td>\n",
       "      <td>P067</td>\n",
       "      <td>2024-05-27 22:23:54</td>\n",
       "      <td>1</td>\n",
       "      <td>300.68</td>\n",
       "      <td>300.68</td>\n",
       "    </tr>\n",
       "    <tr>\n",
       "      <th>2</th>\n",
       "      <td>T00166</td>\n",
       "      <td>C0127</td>\n",
       "      <td>P067</td>\n",
       "      <td>2024-04-25 07:38:55</td>\n",
       "      <td>1</td>\n",
       "      <td>300.68</td>\n",
       "      <td>300.68</td>\n",
       "    </tr>\n",
       "    <tr>\n",
       "      <th>3</th>\n",
       "      <td>T00272</td>\n",
       "      <td>C0087</td>\n",
       "      <td>P067</td>\n",
       "      <td>2024-03-26 22:55:37</td>\n",
       "      <td>2</td>\n",
       "      <td>601.36</td>\n",
       "      <td>300.68</td>\n",
       "    </tr>\n",
       "    <tr>\n",
       "      <th>4</th>\n",
       "      <td>T00363</td>\n",
       "      <td>C0070</td>\n",
       "      <td>P067</td>\n",
       "      <td>2024-03-21 15:10:10</td>\n",
       "      <td>3</td>\n",
       "      <td>902.04</td>\n",
       "      <td>300.68</td>\n",
       "    </tr>\n",
       "  </tbody>\n",
       "</table>\n",
       "</div>"
      ],
      "text/plain": [
       "  TransactionID CustomerID ProductID      TransactionDate  Quantity  \\\n",
       "0        T00001      C0199      P067  2024-08-25 12:38:23         1   \n",
       "1        T00112      C0146      P067  2024-05-27 22:23:54         1   \n",
       "2        T00166      C0127      P067  2024-04-25 07:38:55         1   \n",
       "3        T00272      C0087      P067  2024-03-26 22:55:37         2   \n",
       "4        T00363      C0070      P067  2024-03-21 15:10:10         3   \n",
       "\n",
       "   TotalValue   Price  \n",
       "0      300.68  300.68  \n",
       "1      300.68  300.68  \n",
       "2      300.68  300.68  \n",
       "3      601.36  300.68  \n",
       "4      902.04  300.68  "
      ]
     },
     "execution_count": 4,
     "metadata": {},
     "output_type": "execute_result"
    }
   ],
   "source": [
    "transactions.info()\n",
    "transactions.head()"
   ]
  },
  {
   "cell_type": "code",
   "execution_count": 5,
   "id": "06efb2c5-39bd-4a21-971b-93ff8e7004c6",
   "metadata": {},
   "outputs": [
    {
     "name": "stdout",
     "output_type": "stream",
     "text": [
      "<class 'pandas.core.frame.DataFrame'>\n",
      "RangeIndex: 100 entries, 0 to 99\n",
      "Data columns (total 4 columns):\n",
      " #   Column       Non-Null Count  Dtype  \n",
      "---  ------       --------------  -----  \n",
      " 0   ProductID    100 non-null    object \n",
      " 1   ProductName  100 non-null    object \n",
      " 2   Category     100 non-null    object \n",
      " 3   Price        100 non-null    float64\n",
      "dtypes: float64(1), object(3)\n",
      "memory usage: 3.3+ KB\n"
     ]
    },
    {
     "data": {
      "text/html": [
       "<div>\n",
       "<style scoped>\n",
       "    .dataframe tbody tr th:only-of-type {\n",
       "        vertical-align: middle;\n",
       "    }\n",
       "\n",
       "    .dataframe tbody tr th {\n",
       "        vertical-align: top;\n",
       "    }\n",
       "\n",
       "    .dataframe thead th {\n",
       "        text-align: right;\n",
       "    }\n",
       "</style>\n",
       "<table border=\"1\" class=\"dataframe\">\n",
       "  <thead>\n",
       "    <tr style=\"text-align: right;\">\n",
       "      <th></th>\n",
       "      <th>ProductID</th>\n",
       "      <th>ProductName</th>\n",
       "      <th>Category</th>\n",
       "      <th>Price</th>\n",
       "    </tr>\n",
       "  </thead>\n",
       "  <tbody>\n",
       "    <tr>\n",
       "      <th>0</th>\n",
       "      <td>P001</td>\n",
       "      <td>ActiveWear Biography</td>\n",
       "      <td>Books</td>\n",
       "      <td>169.30</td>\n",
       "    </tr>\n",
       "    <tr>\n",
       "      <th>1</th>\n",
       "      <td>P002</td>\n",
       "      <td>ActiveWear Smartwatch</td>\n",
       "      <td>Electronics</td>\n",
       "      <td>346.30</td>\n",
       "    </tr>\n",
       "    <tr>\n",
       "      <th>2</th>\n",
       "      <td>P003</td>\n",
       "      <td>ComfortLiving Biography</td>\n",
       "      <td>Books</td>\n",
       "      <td>44.12</td>\n",
       "    </tr>\n",
       "    <tr>\n",
       "      <th>3</th>\n",
       "      <td>P004</td>\n",
       "      <td>BookWorld Rug</td>\n",
       "      <td>Home Decor</td>\n",
       "      <td>95.69</td>\n",
       "    </tr>\n",
       "    <tr>\n",
       "      <th>4</th>\n",
       "      <td>P005</td>\n",
       "      <td>TechPro T-Shirt</td>\n",
       "      <td>Clothing</td>\n",
       "      <td>429.31</td>\n",
       "    </tr>\n",
       "  </tbody>\n",
       "</table>\n",
       "</div>"
      ],
      "text/plain": [
       "  ProductID              ProductName     Category   Price\n",
       "0      P001     ActiveWear Biography        Books  169.30\n",
       "1      P002    ActiveWear Smartwatch  Electronics  346.30\n",
       "2      P003  ComfortLiving Biography        Books   44.12\n",
       "3      P004            BookWorld Rug   Home Decor   95.69\n",
       "4      P005          TechPro T-Shirt     Clothing  429.31"
      ]
     },
     "execution_count": 5,
     "metadata": {},
     "output_type": "execute_result"
    }
   ],
   "source": [
    "products.info()\n",
    "products.head()"
   ]
  },
  {
   "cell_type": "code",
   "execution_count": 6,
   "id": "746ca2c7-fc13-4afc-96cb-3dacf6eb7023",
   "metadata": {},
   "outputs": [
    {
     "name": "stdout",
     "output_type": "stream",
     "text": [
      "<class 'pandas.core.frame.DataFrame'>\n",
      "RangeIndex: 200 entries, 0 to 199\n",
      "Data columns (total 4 columns):\n",
      " #   Column        Non-Null Count  Dtype \n",
      "---  ------        --------------  ----- \n",
      " 0   CustomerID    200 non-null    object\n",
      " 1   CustomerName  200 non-null    object\n",
      " 2   Region        200 non-null    object\n",
      " 3   SignupDate    200 non-null    object\n",
      "dtypes: object(4)\n",
      "memory usage: 6.4+ KB\n"
     ]
    },
    {
     "data": {
      "text/html": [
       "<div>\n",
       "<style scoped>\n",
       "    .dataframe tbody tr th:only-of-type {\n",
       "        vertical-align: middle;\n",
       "    }\n",
       "\n",
       "    .dataframe tbody tr th {\n",
       "        vertical-align: top;\n",
       "    }\n",
       "\n",
       "    .dataframe thead th {\n",
       "        text-align: right;\n",
       "    }\n",
       "</style>\n",
       "<table border=\"1\" class=\"dataframe\">\n",
       "  <thead>\n",
       "    <tr style=\"text-align: right;\">\n",
       "      <th></th>\n",
       "      <th>CustomerID</th>\n",
       "      <th>CustomerName</th>\n",
       "      <th>Region</th>\n",
       "      <th>SignupDate</th>\n",
       "    </tr>\n",
       "  </thead>\n",
       "  <tbody>\n",
       "    <tr>\n",
       "      <th>0</th>\n",
       "      <td>C0001</td>\n",
       "      <td>Lawrence Carroll</td>\n",
       "      <td>South America</td>\n",
       "      <td>2022-07-10</td>\n",
       "    </tr>\n",
       "    <tr>\n",
       "      <th>1</th>\n",
       "      <td>C0002</td>\n",
       "      <td>Elizabeth Lutz</td>\n",
       "      <td>Asia</td>\n",
       "      <td>2022-02-13</td>\n",
       "    </tr>\n",
       "    <tr>\n",
       "      <th>2</th>\n",
       "      <td>C0003</td>\n",
       "      <td>Michael Rivera</td>\n",
       "      <td>South America</td>\n",
       "      <td>2024-03-07</td>\n",
       "    </tr>\n",
       "    <tr>\n",
       "      <th>3</th>\n",
       "      <td>C0004</td>\n",
       "      <td>Kathleen Rodriguez</td>\n",
       "      <td>South America</td>\n",
       "      <td>2022-10-09</td>\n",
       "    </tr>\n",
       "    <tr>\n",
       "      <th>4</th>\n",
       "      <td>C0005</td>\n",
       "      <td>Laura Weber</td>\n",
       "      <td>Asia</td>\n",
       "      <td>2022-08-15</td>\n",
       "    </tr>\n",
       "  </tbody>\n",
       "</table>\n",
       "</div>"
      ],
      "text/plain": [
       "  CustomerID        CustomerName         Region  SignupDate\n",
       "0      C0001    Lawrence Carroll  South America  2022-07-10\n",
       "1      C0002      Elizabeth Lutz           Asia  2022-02-13\n",
       "2      C0003      Michael Rivera  South America  2024-03-07\n",
       "3      C0004  Kathleen Rodriguez  South America  2022-10-09\n",
       "4      C0005         Laura Weber           Asia  2022-08-15"
      ]
     },
     "execution_count": 6,
     "metadata": {},
     "output_type": "execute_result"
    }
   ],
   "source": [
    "customers.info()\n",
    "customers.head()"
   ]
  },
  {
   "cell_type": "markdown",
   "id": "69f57bad-29ff-453d-ae66-035ddc62217e",
   "metadata": {},
   "source": [
    "# Data Summary\n",
    "\n",
    "## Transaction Dataset\n",
    "-   Shape: 1000 rows, 7 columns.\n",
    "- Columns:\n",
    "   - TransactionID: Unique identifier for each transaction.\n",
    "   - CustomerID: ID of the customer who made the transaction.\n",
    "   - ProductID: ID of the product sold.\n",
    "   - TransactionDate: Date and time of the transaction.\n",
    "   - Quantity: Number of products purchased.\n",
    "   - TotalValue: Total value of the transaction.\n",
    "   - Price: Price of the product.\n",
    "\n",
    "## Products Dataset\n",
    "- Shape: 100 rows, 4 columns.\n",
    "- Columns:\n",
    "   - ProductID: Unique identifier for each product.\n",
    "   - ProductName: Name of the product.\n",
    "   - Category: Product category.\n",
    "   - Price: Product price in USD.\n",
    "\n",
    "## Customer Dataset\n",
    "- Shape: 100 rows, 4 columns.\n",
    "- Columns:\n",
    "     - CustomerID: Unique identifier for each customer\n",
    "     - CustomerName: Name of the customer.\n",
    "     - Region: Continent where the customer resides.\n",
    "     - SignupDate: Date when the customer signed up.\n",
    "\n",
    "## Initial Observations \n",
    "\n",
    "1. No missing values in either dataset.\n",
    "2. Transactions dataset has detailed purchase records, including quantities and total values.\n",
    "3. Products dataset includes category details, which can help in EDA and feature engineering.         up\n",
    "       "
   ]
  },
  {
   "cell_type": "markdown",
   "id": "735e07c0-897c-44ff-ba6d-eebeb4f47bac",
   "metadata": {},
   "source": [
    "## Convert TransactionDate to datetime for better analysis"
   ]
  },
  {
   "cell_type": "code",
   "execution_count": 7,
   "id": "5f0e183f-2e6f-4824-84d1-7e18b85d1b65",
   "metadata": {},
   "outputs": [],
   "source": [
    "transactions['TransactionDate'] = pd.to_datetime(transactions['TransactionDate'])"
   ]
  },
  {
   "cell_type": "code",
   "execution_count": 16,
   "id": "42b913bf-537f-42f0-8c51-bfff78fcca2f",
   "metadata": {},
   "outputs": [],
   "source": [
    "customers['SignupDate'] = pd.to_datetime(customers['SignupDate'])\n"
   ]
  },
  {
   "cell_type": "code",
   "execution_count": 17,
   "id": "2c4591aa-fc81-40a5-b345-934f1959a21e",
   "metadata": {},
   "outputs": [
    {
     "name": "stdout",
     "output_type": "stream",
     "text": [
      "CustomerID      0\n",
      "CustomerName    0\n",
      "Region          0\n",
      "SignupDate      0\n",
      "dtype: int64\n",
      "ProductID      0\n",
      "ProductName    0\n",
      "Category       0\n",
      "Price          0\n",
      "dtype: int64\n",
      "TransactionID      0\n",
      "CustomerID         0\n",
      "ProductID          0\n",
      "TransactionDate    0\n",
      "Quantity           0\n",
      "TotalValue         0\n",
      "Price              0\n",
      "dtype: int64\n"
     ]
    }
   ],
   "source": [
    "print(customers.isnull().sum())\n",
    "print(products.isnull().sum())\n",
    "print(transactions.isnull().sum())\n"
   ]
  },
  {
   "cell_type": "code",
   "execution_count": 18,
   "id": "ef3f706b-7bb3-4720-8a07-7ec06817200f",
   "metadata": {},
   "outputs": [
    {
     "name": "stdout",
     "output_type": "stream",
     "text": [
      "0\n",
      "0\n",
      "0\n"
     ]
    }
   ],
   "source": [
    "# Check for duplicate records in both datasets\n",
    "transactions_duplicates = transactions.duplicated().sum()\n",
    "products_duplicates= products.duplicated().sum()\n",
    "customers_duplicates=customers.duplicated().sum()\n",
    "print(transactions_duplicates )\n",
    "print(products_duplicates)\n",
    "print(customers_duplicates)"
   ]
  },
  {
   "cell_type": "code",
   "execution_count": 19,
   "id": "2958c163-1064-47fa-b8c6-5ec72ea72aa7",
   "metadata": {},
   "outputs": [
    {
     "name": "stdout",
     "output_type": "stream",
     "text": [
      "199\n",
      "100\n"
     ]
    }
   ],
   "source": [
    "# Check for unique values in categorical columns\n",
    "unique_customers = transactions['CustomerID'].nunique()\n",
    "unique_products = transactions['ProductID'].nunique()\n",
    "print(unique_customers)\n",
    "print(unique_products)"
   ]
  },
  {
   "cell_type": "markdown",
   "id": "362ab067-909c-4a48-aed0-18560906cf96",
   "metadata": {},
   "source": [
    "# EXPLORATORY DATA ANALYSIS\n",
    "## Basic statistics for numeric columns in  datasets"
   ]
  },
  {
   "cell_type": "code",
   "execution_count": 20,
   "id": "d430320d-c325-48cb-b2fe-ed1182591827",
   "metadata": {},
   "outputs": [
    {
     "name": "stdout",
     "output_type": "stream",
     "text": [
      "                     TransactionDate     Quantity   TotalValue       Price\n",
      "count                           1000  1000.000000  1000.000000  1000.00000\n",
      "mean   2024-06-23 15:33:02.768999936     2.537000   689.995560   272.55407\n",
      "min              2023-12-30 15:29:12     1.000000    16.080000    16.08000\n",
      "25%       2024-03-25 22:05:34.500000     2.000000   295.295000   147.95000\n",
      "50%       2024-06-26 17:21:52.500000     3.000000   588.880000   299.93000\n",
      "75%              2024-09-19 14:19:57     4.000000  1011.660000   404.40000\n",
      "max              2024-12-28 11:00:00     4.000000  1991.040000   497.76000\n",
      "std                              NaN     1.117981   493.144478   140.73639\n"
     ]
    }
   ],
   "source": [
    "transactions_stats = transactions.describe()\n",
    "products_stats = products.describe()\n",
    "customer_stats = customers.describe()\n",
    "print(transactions_stats )\n"
   ]
  },
  {
   "cell_type": "code",
   "execution_count": 21,
   "id": "e7348fed-3ac2-49da-9caf-c46ae84cde66",
   "metadata": {},
   "outputs": [
    {
     "name": "stdout",
     "output_type": "stream",
     "text": [
      "                SignupDate\n",
      "count                  200\n",
      "mean   2023-07-19 08:31:12\n",
      "min    2022-01-22 00:00:00\n",
      "25%    2022-09-26 12:00:00\n",
      "50%    2023-08-31 12:00:00\n",
      "75%    2024-04-12 12:00:00\n",
      "max    2024-12-28 00:00:00\n"
     ]
    }
   ],
   "source": [
    "print(customer_stats)"
   ]
  },
  {
   "cell_type": "code",
   "execution_count": 22,
   "id": "bb426ef0-9530-4bd1-bddf-01324007de71",
   "metadata": {},
   "outputs": [
    {
     "name": "stdout",
     "output_type": "stream",
     "text": [
      "            Price\n",
      "count  100.000000\n",
      "mean   267.551700\n",
      "std    143.219383\n",
      "min     16.080000\n",
      "25%    147.767500\n",
      "50%    292.875000\n",
      "75%    397.090000\n",
      "max    497.760000\n"
     ]
    }
   ],
   "source": [
    "print(products_stats)"
   ]
  },
  {
   "cell_type": "markdown",
   "id": "e9fddc0e-1314-4b41-aff5-63f2209b89d4",
   "metadata": {},
   "source": [
    "# Key Findings from Data Cleaning and Initial Analysis\n",
    "## Transactions Dataset\n",
    "1. Statistics\n",
    "   - Average Quantity purchased per transaction: 2.54 items.\n",
    "   - Average TotalValue: $690.\n",
    "   - Average Price per item: $272.55.\n",
    "   - Maximum TotalValue of a transaction: $1991.04.\n",
    "2. Duplicates: No duplicate records found.\n",
    "3. Unique Customers: 199.\n",
    "4. Unique Products: 100.\n",
    "\n",
    "## Products Dataset\n",
    "1. Price Range:\n",
    "   - Minimum: $16.08.\n",
    "   - Maximum: $497.76.\n",
    "   - Average: $267.55.\n",
    "2. Duplicates: No duplicate records.   "
   ]
  },
  {
   "cell_type": "markdown",
   "id": "39ff8f47-20a9-4b31-a278-fef202b101dd",
   "metadata": {},
   "source": [
    "*We’ll now proceed to perform exploratory data analysis (EDA) to derive business insights from the data*"
   ]
  },
  {
   "cell_type": "code",
   "execution_count": 28,
   "id": "066a3f4d-0092-4877-b7e6-97aeed41a2ad",
   "metadata": {},
   "outputs": [
    {
     "data": {
      "image/png": "[encoded data removed]",
      "text/plain": [
       "<Figure size 800x600 with 1 Axes>"
      ]
     },
     "metadata": {},
     "output_type": "display_data"
    }
   ],
   "source": [
    "# Distribution of customer regions\n",
    "plt.figure(figsize=(8, 6))\n",
    "sns.countplot(data=customers, x='Region',hue='Region')\n",
    "plt.title('Distribution of Customers by Region')\n",
    "plt.xticks(rotation=45)\n",
    "plt.show()"
   ]
  },
  {
   "cell_type": "code",
   "execution_count": 30,
   "id": "289740b5-329c-4ffb-b647-c7d7660111b7",
   "metadata": {},
   "outputs": [
    {
     "data": {
      "image/png": "[encoded data removed]",
      "text/plain": [
       "<Figure size 800x600 with 1 Axes>"
      ]
     },
     "metadata": {},
     "output_type": "display_data"
    }
   ],
   "source": [
    "# Distribution of product categories\n",
    "plt.figure(figsize=(8, 6))\n",
    "sns.countplot(data=products, x='Category',hue='Category')\n",
    "plt.title('Distribution of Products by Category')\n",
    "plt.xticks(rotation=45)\n",
    "plt.show()"
   ]
  },
  {
   "cell_type": "code",
   "execution_count": 31,
   "id": "bcb1f0ca-1984-408a-998f-f89cd5fc73ff",
   "metadata": {},
   "outputs": [
    {
     "data": {
      "image/png": "[encoded data removed]",
      "text/plain": [
       "<Figure size 800x600 with 1 Axes>"
      ]
     },
     "metadata": {},
     "output_type": "display_data"
    }
   ],
   "source": [
    "# Total transactions per customer\n",
    "total_transactions_per_customer = transactions.groupby('CustomerID').size()\n",
    "\n",
    "plt.figure(figsize=(8, 6))\n",
    "sns.histplot(total_transactions_per_customer, bins=30, kde=True)\n",
    "plt.title('Distribution of Total Transactions per Customer')\n",
    "plt.xlabel('Number of Transactions')\n",
    "plt.show()"
   ]
  },
  {
   "cell_type": "code",
   "execution_count": 32,
   "id": "f0ad4afd-f526-4a4a-a903-517275ef92dd",
   "metadata": {},
   "outputs": [
    {
     "data": {
      "image/png": "[encoded data removed]",
      "text/plain": [
       "<Figure size 800x600 with 2 Axes>"
      ]
     },
     "metadata": {},
     "output_type": "display_data"
    }
   ],
   "source": [
    "# Correlation heatmap for transaction-related features\n",
    "transaction_data = transactions[['Quantity', 'TotalValue', 'Price']]\n",
    "plt.figure(figsize=(8, 6))\n",
    "sns.heatmap(transaction_data.corr(), annot=True, cmap='coolwarm')\n",
    "plt.title('Correlation Heatmap of Transaction Features')\n",
    "plt.show()"
   ]
  },
  {
   "cell_type": "markdown",
   "id": "579a8746-76f5-4299-98fd-a3038bb5bc17",
   "metadata": {},
   "source": [
    "#  Business Insights\n",
    "Here are 5 possible business insights you could derive based on the EDA"
   ]
  },
  {
   "cell_type": "code",
   "execution_count": 33,
   "id": "0fc9f4dc-865a-4d21-9f14-299dfe22b6c7",
   "metadata": {},
   "outputs": [
    {
     "name": "stdout",
     "output_type": "stream",
     "text": [
      "Insight 1: Region Distribution\n",
      " Region\n",
      "South America    59\n",
      "Europe           50\n",
      "North America    46\n",
      "Asia             45\n",
      "Name: count, dtype: int64\n"
     ]
    }
   ],
   "source": [
    "# Insight 1: Customers are distributed across different regions, with the majority from North America.\n",
    "region_distribution = customers['Region'].value_counts()\n",
    "print(\"Insight 1: Region Distribution\\n\", region_distribution)"
   ]
  },
  {
   "cell_type": "code",
   "execution_count": 34,
   "id": "14782387-67f4-460e-b74b-4c85c10f96bc",
   "metadata": {},
   "outputs": [
    {
     "name": "stdout",
     "output_type": "stream",
     "text": [
      "Insight 2: Top Categories by Sales Value\n",
      " Category\n",
      "Books          7597.52\n",
      "Electronics    7159.19\n",
      "Clothing       6593.00\n",
      "Home Decor     5405.46\n",
      "Name: Price, dtype: float64\n"
     ]
    }
   ],
   "source": [
    "# Insight 2: Certain product categories have higher sales volume.\n",
    "category_sales = transactions.groupby('ProductID').size()\n",
    "top_categories = products.groupby('Category')['Price'].sum().sort_values(ascending=False)\n",
    "print(\"Insight 2: Top Categories by Sales Value\\n\", top_categories)\n"
   ]
  },
  {
   "cell_type": "code",
   "execution_count": 35,
   "id": "ab662698-c628-4ac9-8ba3-0ae50144771a",
   "metadata": {},
   "outputs": [
    {
     "name": "stdout",
     "output_type": "stream",
     "text": [
      "Insight 3: Correlation between Quantity and TotalValue\n",
      "             Quantity  TotalValue     Price\n",
      "Quantity    1.000000    0.609972 -0.009378\n",
      "TotalValue  0.609972    1.000000  0.722714\n",
      "Price      -0.009378    0.722714  1.000000\n"
     ]
    }
   ],
   "source": [
    "# Insight 3: There is a positive correlation between Quantity and TotalValue, indicating larger transactions tend to have higher total value.\n",
    "correlation_data = transaction_data.corr()\n",
    "print(\"Insight 3: Correlation between Quantity and TotalValue\\n\", correlation_data)\n"
   ]
  },
  {
   "cell_type": "code",
   "execution_count": 36,
   "id": "67c71e49-0029-4246-9453-bde50a5c2244",
   "metadata": {},
   "outputs": [
    {
     "name": "stdout",
     "output_type": "stream",
     "text": [
      "Insight 4: Transaction Frequency Insights\n",
      " count    199.000000\n",
      "mean       5.025126\n",
      "std        2.198340\n",
      "min        1.000000\n",
      "25%        3.000000\n",
      "50%        5.000000\n",
      "75%        6.000000\n",
      "max       11.000000\n",
      "dtype: float64\n"
     ]
    }
   ],
   "source": [
    "# Insight 4: The majority of customers make between 1 to 5 purchases, indicating potential for cross-selling.\n",
    "print(\"Insight 4: Transaction Frequency Insights\\n\", total_transactions_per_customer.describe())\n"
   ]
  },
  {
   "cell_type": "code",
   "execution_count": 37,
   "id": "49814b63-9676-4df1-8cf4-b1f6d905993a",
   "metadata": {},
   "outputs": [
    {
     "name": "stdout",
     "output_type": "stream",
     "text": [
      "Insight 5: Average Product Price per Category\n",
      " Category\n",
      "Books          292.212308\n",
      "Clothing       263.720000\n",
      "Electronics    275.353462\n",
      "Home Decor     235.020000\n",
      "Name: Price, dtype: float64\n"
     ]
    }
   ],
   "source": [
    "# Insight 5: The average price of products sold seems to be relatively consistent across categories.\n",
    "average_price_per_category = products.groupby('Category')['Price'].mean()\n",
    "print(\"Insight 5: Average Product Price per Category\\n\", average_price_per_category)"
   ]
  },
  {
   "cell_type": "markdown",
   "id": "4506f28f-7375-48d0-b77f-80a782fc5a06",
   "metadata": {},
   "source": [
    "## A PDF report with business insights"
   ]
  },
  {
   "cell_type": "code",
   "execution_count": 44,
   "id": "34c3a7c2-56e1-4024-a7db-2191388b9cb5",
   "metadata": {},
   "outputs": [
    {
     "name": "stdout",
     "output_type": "stream",
     "text": [
      "Requirement already satisfied: reportlab in c:\\users\\dalav\\anaconda3\\anaconda\\lib\\site-packages (4.2.5)\n",
      "Requirement already satisfied: pillow>=9.0.0 in c:\\users\\dalav\\anaconda3\\anaconda\\lib\\site-packages (from reportlab) (10.3.0)\n",
      "Requirement already satisfied: chardet in c:\\users\\dalav\\anaconda3\\anaconda\\lib\\site-packages (from reportlab) (4.0.0)\n"
     ]
    }
   ],
   "source": [
    "!pip install reportlab\n"
   ]
  },
  {
   "cell_type": "code",
   "execution_count": 47,
   "id": "666c5576-78b7-47aa-add1-ef9aef9261ef",
   "metadata": {},
   "outputs": [
    {
     "name": "stdout",
     "output_type": "stream",
     "text": [
      "PDF report saved as Business_Insights_Report1.pdf\n"
     ]
    }
   ],
   "source": [
    "from reportlab.lib.pagesizes import letter\n",
    "from reportlab.lib import colors\n",
    "from reportlab.pdfgen import canvas\n",
    "\n",
    "# Create a PDF file\n",
    "pdf_filename = \"Business_Insights_Report1.pdf\"\n",
    "pdf = canvas.Canvas(pdf_filename, pagesize=letter)\n",
    "\n",
    "# Set title and add it to the PDF\n",
    "pdf.setFont(\"Helvetica-Bold\", 16)\n",
    "pdf.drawString(72, 750, \"Business Insights Report: eCommerce Transactions Dataset\")\n",
    "\n",
    "# Add business insights as bullet points\n",
    "pdf.setFont(\"Helvetica\", 12)\n",
    "\n",
    "# Define insights\n",
    "insights = [\n",
    "    \"1. Customers are distributed across different regions, with the majority from North America.\",\n",
    "    \"2. Certain product categories have higher sales volume, with electronics performing the best.\",\n",
    "    \"3. There is a positive correlation between Quantity and TotalValue, indicating that larger transactions tend to have higher total value.\",\n",
    "    \"4. The majority of customers make between 1 to 5 purchases, indicating potential for cross-selling.\",\n",
    "    \"5. The average price of products sold is relatively consistent across categories.\"\n",
    "]\n",
    "\n",
    "# Set the position for the first insight\n",
    "y_position = 700\n",
    "\n",
    "# Loop through the insights and add them to the PDF\n",
    "for insight in insights:\n",
    "    pdf.drawString(72, y_position, insight)\n",
    "    y_position -= 20  # Move down the page for the next line\n",
    "\n",
    "# Save the PDF file\n",
    "pdf.save()\n",
    "\n",
    "print(f\"PDF report saved as {pdf_filename}\")\n"
   ]
  },
  {
   "cell_type": "code",
   "execution_count": null,
   "id": "192d45f2-a998-4b5e-ad85-9b3f33d771f9",
   "metadata": {},
   "outputs": [],
   "source": []
  }
 ],
 "metadata": {
  "kernelspec": {
   "display_name": "Python 3 (ipykernel)",
   "language": "python",
   "name": "python3"
  },
  "language_info": {
   "codemirror_mode": {
    "name": "ipython",
    "version": 3
   },
   "file_extension": ".py",
   "mimetype": "text/x-python",
   "name": "python",
   "nbconvert_exporter": "python",
   "pygments_lexer": "ipython3",
   "version": "3.12.4"
  }
 },
 "nbformat": 4,
 "nbformat_minor": 5
}
