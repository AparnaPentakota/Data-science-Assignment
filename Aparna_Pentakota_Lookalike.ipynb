{
 "cells": [
  {
   "cell_type": "markdown",
   "id": "5ed46882-a905-4876-a397-b588f70b7484",
   "metadata": {},
   "source": [
    "# Task 2: Lookalike Model\n",
    "The goal of Task 2 is to build a Lookalike Model that recommends similar customers based on their profiles and transaction history. We will use a cosine similarity measure to calculate the similarity between customers based on their features."
   ]
  },
  {
   "cell_type": "code",
   "execution_count": 3,
   "id": "3e70f249-5f3c-41c3-9be9-18c53ea4f2f3",
   "metadata": {},
   "outputs": [],
   "source": [
    "from sklearn.metrics.pairwise import cosine_similarity\n",
    "import numpy as np\n",
    "import pandas as pd"
   ]
  },
  {
   "cell_type": "code",
   "execution_count": 5,
   "id": "2c8c3496-0e51-43be-9615-d977a1928c79",
   "metadata": {},
   "outputs": [],
   "source": [
    "transactions = pd.read_csv(r\"C:\\Users\\DaLav\\Downloads\\Transactions.csv\")\n",
    "products = pd.read_csv(r\"C:\\Users\\DaLav\\Downloads\\Products.csv\")\n",
    "customers = pd.read_csv(r\"C:\\Users\\DaLav\\Downloads\\Customers.csv\")"
   ]
  },
  {
   "cell_type": "markdown",
   "id": "c9183346-8940-4adc-b5a4-14c9927d9d46",
   "metadata": {},
   "source": [
    "## Prepare the Data"
   ]
  },
  {
   "cell_type": "code",
   "execution_count": 7,
   "id": "767cb5c8-d614-4ebe-b4bc-193715ad9612",
   "metadata": {},
   "outputs": [
    {
     "name": "stdout",
     "output_type": "stream",
     "text": [
      "    TransactionID CustomerID ProductID      TransactionDate  Quantity  \\\n",
      "0          T00001      C0199      P067  2024-08-25 12:38:23         1   \n",
      "1          T00112      C0146      P067  2024-05-27 22:23:54         1   \n",
      "2          T00166      C0127      P067  2024-04-25 07:38:55         1   \n",
      "3          T00272      C0087      P067  2024-03-26 22:55:37         2   \n",
      "4          T00363      C0070      P067  2024-03-21 15:10:10         3   \n",
      "..            ...        ...       ...                  ...       ...   \n",
      "995        T00496      C0118      P037  2024-10-24 08:30:27         1   \n",
      "996        T00759      C0059      P037  2024-06-04 02:15:24         3   \n",
      "997        T00922      C0018      P037  2024-04-05 13:05:32         4   \n",
      "998        T00959      C0115      P037  2024-09-29 10:16:02         2   \n",
      "999        T00992      C0024      P037  2024-04-21 10:52:24         1   \n",
      "\n",
      "     TotalValue   Price          CustomerName         Region  SignupDate  \n",
      "0        300.68  300.68        Andrea Jenkins         Europe  2022-12-03  \n",
      "1        300.68  300.68       Brittany Harvey           Asia  2024-09-04  \n",
      "2        300.68  300.68       Kathryn Stevens         Europe  2024-04-04  \n",
      "3        601.36  300.68       Travis Campbell  South America  2024-04-11  \n",
      "4        902.04  300.68         Timothy Perez         Europe  2022-03-15  \n",
      "..          ...     ...                   ...            ...         ...  \n",
      "995      459.86  459.86            Jacob Holt  South America  2022-01-22  \n",
      "996     1379.58  459.86  Mrs. Kimberly Wright  North America  2024-04-07  \n",
      "997     1839.44  459.86          Tyler Haynes  North America  2024-09-21  \n",
      "998      919.72  459.86       Joshua Hamilton           Asia  2024-11-11  \n",
      "999      459.86  459.86        Michele Cooley  North America  2024-02-05  \n",
      "\n",
      "[1000 rows x 10 columns]\n"
     ]
    }
   ],
   "source": [
    "# Merge customer data with their transactions to create a rich feature set\n",
    "# Merge customers with transactions\n",
    "customer_transactions = pd.merge(transactions, customers, on=\"CustomerID\")\n",
    "print(customer_transactions)"
   ]
  },
  {
   "cell_type": "code",
   "execution_count": 8,
   "id": "4ed14c3f-ef1f-4f81-b8c8-6ae1e6627106",
   "metadata": {},
   "outputs": [
    {
     "name": "stdout",
     "output_type": "stream",
     "text": [
      "    CustomerID  total_spending  total_quantity  num_unique_products\n",
      "0        C0001         3354.52              12                    5\n",
      "1        C0002         1862.74              10                    4\n",
      "2        C0003         2725.38              14                    4\n",
      "3        C0004         5354.88              23                    8\n",
      "4        C0005         2034.24               7                    3\n",
      "..         ...             ...             ...                  ...\n",
      "194      C0196         4982.88              12                    3\n",
      "195      C0197         1928.65               9                    3\n",
      "196      C0198          931.83               3                    2\n",
      "197      C0199         1979.28               9                    4\n",
      "198      C0200         4758.60              16                    5\n",
      "\n",
      "[199 rows x 4 columns]\n"
     ]
    }
   ],
   "source": [
    "# Aggregate data per customer: Total spending, total quantity, and number of unique products bought\n",
    "customer_features = customer_transactions.groupby('CustomerID').agg(\n",
    "    total_spending=('TotalValue', 'sum'),\n",
    "    total_quantity=('Quantity', 'sum'),\n",
    "    num_unique_products=('ProductID', 'nunique')\n",
    ").reset_index()\n",
    "print(customer_features)"
   ]
  },
  {
   "cell_type": "code",
   "execution_count": 11,
   "id": "3544bd64-5e1e-4330-9d4c-eb28c9f77155",
   "metadata": {},
   "outputs": [
    {
     "name": "stdout",
     "output_type": "stream",
     "text": [
      "    CustomerID  total_spending  total_quantity  num_unique_products  \\\n",
      "0        C0001         3354.52              12                    5   \n",
      "1        C0002         1862.74              10                    4   \n",
      "2        C0003         2725.38              14                    4   \n",
      "3        C0004         5354.88              23                    8   \n",
      "4        C0005         2034.24               7                    3   \n",
      "..         ...             ...             ...                  ...   \n",
      "194      C0196         4982.88              12                    3   \n",
      "195      C0197         1928.65               9                    3   \n",
      "196      C0198          931.83               3                    2   \n",
      "197      C0199         1979.28               9                    4   \n",
      "198      C0200         4758.60              16                    5   \n",
      "\n",
      "          Region_x       Region_y  \n",
      "0    South America  South America  \n",
      "1             Asia           Asia  \n",
      "2    South America  South America  \n",
      "3    South America  South America  \n",
      "4             Asia           Asia  \n",
      "..             ...            ...  \n",
      "194         Europe         Europe  \n",
      "195         Europe         Europe  \n",
      "196         Europe         Europe  \n",
      "197         Europe         Europe  \n",
      "198           Asia           Asia  \n",
      "\n",
      "[199 rows x 6 columns]\n"
     ]
    }
   ],
   "source": [
    "# Merge product information for additional features (if necessary)\n",
    "customer_features = pd.merge(customer_features, customers[['CustomerID', 'Region']], on='CustomerID', how='left')\n",
    "print(customer_features)"
   ]
  },
  {
   "cell_type": "code",
   "execution_count": 12,
   "id": "dc6f906f-b218-40c2-b788-25d813426fa7",
   "metadata": {},
   "outputs": [
    {
     "name": "stdout",
     "output_type": "stream",
     "text": [
      "     total_spending  total_quantity  num_unique_products\n",
      "0           3354.52              12                    5\n",
      "1           1862.74              10                    4\n",
      "2           2725.38              14                    4\n",
      "3           5354.88              23                    8\n",
      "4           2034.24               7                    3\n",
      "..              ...             ...                  ...\n",
      "194         4982.88              12                    3\n",
      "195         1928.65               9                    3\n",
      "196          931.83               3                    2\n",
      "197         1979.28               9                    4\n",
      "198         4758.60              16                    5\n",
      "\n",
      "[199 rows x 3 columns]\n"
     ]
    }
   ],
   "source": [
    "# For simplicity, let's use total_spending, total_quantity, and num_unique_products as features\n",
    "features = customer_features[['total_spending', 'total_quantity', 'num_unique_products']]\n",
    "print(features)"
   ]
  },
  {
   "cell_type": "markdown",
   "id": "3777768d-da3b-42d2-8d6c-e8b15a43b3eb",
   "metadata": {},
   "source": [
    "# Calculate Similarity\n",
    "We will now calculate the cosine similarity between customers based on their transaction features (total_spending, total_quantity, and num_unique_products)."
   ]
  },
  {
   "cell_type": "code",
   "execution_count": 13,
   "id": "6f336b82-b2dc-40ad-9cae-385cadda5ee2",
   "metadata": {},
   "outputs": [
    {
     "name": "stdout",
     "output_type": "stream",
     "text": [
      "Cosine Similarity Matrix:\n",
      " [[ 1.          0.5607095  -0.23287112 ...  0.57520619  0.64495019\n",
      "  -0.82106564]\n",
      " [ 0.5607095   1.          0.66710809 ...  0.93024044  0.98742961\n",
      "  -0.92593466]\n",
      " [-0.23287112  0.66710809  1.         ...  0.52506851  0.56284471\n",
      "  -0.36357058]\n",
      " ...\n",
      " [ 0.57520619  0.93024044  0.52506851 ...  1.          0.96659366\n",
      "  -0.84933987]\n",
      " [ 0.64495019  0.98742961  0.56284471 ...  0.96659366  1.\n",
      "  -0.94332605]\n",
      " [-0.82106564 -0.92593466 -0.36357058 ... -0.84933987 -0.94332605\n",
      "   1.        ]]\n"
     ]
    }
   ],
   "source": [
    "# Normalize features before calculating cosine similarity\n",
    "from sklearn.preprocessing import StandardScaler\n",
    "\n",
    "scaler = StandardScaler()\n",
    "normalized_features = scaler.fit_transform(features)\n",
    "\n",
    "# Calculate cosine similarity between customers\n",
    "similarity_matrix = cosine_similarity(normalized_features)\n",
    "\n",
    "# The similarity_matrix is symmetric, so the diagonal will always be 1 (self-similarity).\n",
    "print(\"Cosine Similarity Matrix:\\n\", similarity_matrix)\n"
   ]
  },
  {
   "cell_type": "markdown",
   "id": "d881d0ed-df35-4846-8d3d-5a50b8288775",
   "metadata": {},
   "source": [
    "# Generate Recommendations (Top 3 Lookalikes)\n",
    "We will now recommend the top 3 most similar customers for each of the first 20 customers based on their similarity scores."
   ]
  },
  {
   "cell_type": "code",
   "execution_count": 14,
   "id": "c0042647-4f00-4f7c-b05c-41d0fbb857f9",
   "metadata": {},
   "outputs": [
    {
     "name": "stdout",
     "output_type": "stream",
     "text": [
      "Customer 1:\n",
      "\tRecommended Customer C0069 with similarity score 0.96\n",
      "\tRecommended Customer C0137 with similarity score 0.96\n",
      "\tRecommended Customer C0164 with similarity score 0.97\n",
      "Customer 2:\n",
      "\tRecommended Customer C0094 with similarity score 0.99\n",
      "\tRecommended Customer C0031 with similarity score 1.00\n",
      "\tRecommended Customer C0029 with similarity score 1.00\n",
      "Customer 3:\n",
      "\tRecommended Customer C0010 with similarity score 0.83\n",
      "\tRecommended Customer C0027 with similarity score 0.86\n",
      "\tRecommended Customer C0176 with similarity score 0.89\n",
      "Customer 4:\n",
      "\tRecommended Customer C0195 with similarity score 0.99\n",
      "\tRecommended Customer C0175 with similarity score 0.99\n",
      "\tRecommended Customer C0075 with similarity score 1.00\n",
      "Customer 5:\n",
      "\tRecommended Customer C0015 with similarity score 1.00\n",
      "\tRecommended Customer C0123 with similarity score 1.00\n",
      "\tRecommended Customer C0058 with similarity score 1.00\n"
     ]
    }
   ],
   "source": [
    "# Function to get top N most similar customers\n",
    "def get_top_n_similar_customers(similarity_matrix, customer_id, n=3):\n",
    "    # Get the index of the customer\n",
    "    customer_index = customer_id - 1  # Assuming CustomerID starts from 1 and is sequential\n",
    "    \n",
    "    # Get the similarity scores for the customer\n",
    "    similarity_scores = similarity_matrix[customer_index]\n",
    "    \n",
    "    # Get indices of the top N most similar customers (excluding the customer itself)\n",
    "    similar_customer_indices = similarity_scores.argsort()[-(n+1):-1]\n",
    "    \n",
    "    # Get the CustomerIDs and similarity scores of the top N similar customers\n",
    "    similar_customers = customer_features.iloc[similar_customer_indices]\n",
    "    similarity_scores = similarity_scores[similar_customer_indices]\n",
    "    \n",
    "    # Return as a list of tuples (CustomerID, SimilarityScore)\n",
    "    return list(zip(similar_customers['CustomerID'], similarity_scores))\n",
    "\n",
    "# Get top 3 lookalike customers for the first 20 customers\n",
    "lookalikes = {}\n",
    "\n",
    "for customer_id in range(1, 21):  # CustomerID: C0001 to C0020\n",
    "    lookalikes[customer_id] = get_top_n_similar_customers(similarity_matrix, customer_id, n=3)\n",
    "\n",
    "# Display lookalikes for the first 5 customers as an example\n",
    "for customer_id, recommendations in list(lookalikes.items())[:5]:\n",
    "    print(f\"Customer {customer_id}:\")\n",
    "    for recommended_customer, score in recommendations:\n",
    "        print(f\"\\tRecommended Customer {recommended_customer} with similarity score {score:.2f}\")\n"
   ]
  },
  {
   "cell_type": "markdown",
   "id": "237bc9f5-651f-45be-a6cb-d1289f9195c8",
   "metadata": {},
   "source": [
    "# Save the Recommendations to a CSV File\n",
    "Finally, we will save the lookalike recommendations for the first 20 customers in a Lookalike.csv file."
   ]
  },
  {
   "cell_type": "code",
   "execution_count": 15,
   "id": "19eb202d-7d5c-45a5-b2e5-ea6e107debc1",
   "metadata": {},
   "outputs": [
    {
     "name": "stdout",
     "output_type": "stream",
     "text": [
      "Lookalike recommendations saved to 'Lookalike.csv'\n"
     ]
    }
   ],
   "source": [
    "# Convert lookalike recommendations to a DataFrame\n",
    "lookalike_list = []\n",
    "for customer_id, recommendations in lookalikes.items():\n",
    "    for recommended_customer, score in recommendations:\n",
    "        lookalike_list.append([customer_id, recommended_customer, score])\n",
    "\n",
    "lookalike_df = pd.DataFrame(lookalike_list, columns=['CustomerID', 'LookalikeCustomerID', 'SimilarityScore'])\n",
    "\n",
    "# Save to CSV\n",
    "lookalike_df.to_csv('Lookalike.csv', index=False)\n",
    "\n",
    "print(\"Lookalike recommendations saved to 'Lookalike.csv'\")\n"
   ]
  },
  {
   "cell_type": "code",
   "execution_count": null,
   "id": "0b28053c-5295-4997-902f-a346ef7dfefa",
   "metadata": {},
   "outputs": [],
   "source": []
  }
 ],
 "metadata": {
  "kernelspec": {
   "display_name": "Python 3 (ipykernel)",
   "language": "python",
   "name": "python3"
  },
  "language_info": {
   "codemirror_mode": {
    "name": "ipython",
    "version": 3
   },
   "file_extension": ".py",
   "mimetype": "text/x-python",
   "name": "python",
   "nbconvert_exporter": "python",
   "pygments_lexer": "ipython3",
   "version": "3.12.4"
  }
 },
 "nbformat": 4,
 "nbformat_minor": 5
}
